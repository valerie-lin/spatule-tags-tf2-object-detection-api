{
 "cells": [
  {
   "cell_type": "code",
   "execution_count": 15,
   "metadata": {},
   "outputs": [],
   "source": [
    "import matplotlib.pyplot as plt\n",
    "from scipy import signal\n",
    "import numpy as np\n",
    "import copy as cp\n",
    "import random\n",
    "import cv2\n",
    "import collections\n",
    "import os\n"
   ]
  },
  {
   "cell_type": "code",
   "execution_count": null,
   "metadata": {},
   "outputs": [],
   "source": [
    "\n",
    "def divide_method2(img,m,n):  # Cut m rows and n columns \n",
    "    h, w = img.shape[0],img.shape[1]\n",
    "    grid_h=int(h*1.0/(m-1)+0.5) \n",
    "    grid_w=int(w*1.0/(n-1)+0.5)\n",
    "    \n",
    "    h=grid_h*(m-1)\n",
    "    w=grid_w*(n-1)\n",
    "    \n",
    "    img_re=cv2.resize(img,(w,h),cv2.INTER_LINEAR)# also can use img_re=skimage.transform.resize(img, (h,w)).astype(np.uint8)\n",
    "    #plt.imshow(img_re)\n",
    "    gx, gy = np.meshgrid(np.linspace(0, w, n),np.linspace(0, h, m))\n",
    "    gx=gx.astype(np.int)\n",
    "    gy=gy.astype(np.int)\n",
    "\n",
    "    divide_image = np.zeros([m-1, n-1, grid_h, grid_w,3], np.uint8)\n",
    "    \n",
    "    for i in range(m-1):\n",
    "        for j in range(n-1):      \n",
    "            divide_image[i,j,...]=img_re[\n",
    "            gy[i][j]:gy[i+1][j+1], gx[i][j]:gx[i+1][j+1],:]\n",
    "    return divide_image\n",
    "\n",
    "# only for display\n",
    "def display_blocks(divide_image):   \n",
    "    m,n=divide_image.shape[0],divide_image.shape[1]\n",
    "    for i in range(m):\n",
    "        for j in range(n):\n",
    "            plt.subplot(m,n,i*n+j+1)\n",
    "            plt.imshow(divide_image[i,j,:])\n",
    "            plt.axis('off')\n",
    "            plt.savefig('test')\n",
    "    plt.show()\n",
    "    \n"
   ]
  },
  {
   "cell_type": "code",
   "execution_count": 20,
   "metadata": {},
   "outputs": [
    {
     "name": "stdout",
     "output_type": "stream",
     "text": [
      "/Users/valerielin/Desktop/Spring2021/special_problem/Spatules_Camargue\n",
      "['IMAG0249.JPG', 'IMAG0233 (2).JPG', 'IMAG0223 (2).JPG', 'IMAG0248.JPG', 'IMAG0241 (2).JPG', 'IMAG0215 (2).JPG', 'IMAG0205 (2).JPG', 'IMAG0197 (2).JPG', 'IMAG0248 (2).JPG', 'IMAG0204 (2).JPG', 'IMAG0214 (2).JPG', 'IMAG0249 (2).JPG', 'IMAG0196 (2).JPG', 'IMAG0222 (2).JPG', 'IMAG0232 (2).JPG', 'IMAG0240 (2).JPG', 'IMAG0250 (2).JPG', 'IMAG0216 (2).JPG', 'IMAG0206 (2).JPG', 'IMAG0202.JPG', 'IMAG0216.JPG', 'IMAG0229 (2).JPG', 'IMAG0239 (2).JPG', 'IMAG0217.JPG', 'IMAG0203.JPG', 'IMAG0194 (2).JPG', 'IMAG0215.JPG', 'IMAG0201.JPG', 'IMAG0229.JPG', 'IMAG0242 (2).JPG', 'IMAG0228.JPG', 'IMAG0200.JPG', 'IMAG0214.JPG', 'IMAG0230 (2).JPG', 'IMAG0220 (2).JPG', 'IMAG0238.JPG', 'IMAG0210.JPG', 'IMAG0204.JPG', 'IMAG0199.JPG', 'IMAG0198.JPG', 'IMAG0243 (2).JPG', 'IMAG0205.JPG', 'IMAG0221 (2).JPG', 'IMAG0231 (2).JPG', 'IMAG0211.JPG', 'IMAG0239.JPG', 'IMAG0207 (2).JPG', 'IMAG0217 (2).JPG', 'IMAG0207.JPG', 'IMAG0213.JPG', 'IMAG0238 (2).JPG', 'IMAG0228 (2).JPG', 'IMAG0195 (2).JPG', 'IMAG0212.JPG', 'IMAG0206.JPG', 'IMAG0223.JPG', 'IMAG0237.JPG', 'IMAG0196.JPG', 'IMAG0197.JPG', 'IMAG0212 (2).JPG', 'IMAG0202 (2).JPG', 'IMAG0236.JPG', 'IMAG0222.JPG', 'IMAG0199 (2).JPG', 'IMAG0234.JPG', 'IMAG0220.JPG', 'IMAG0208.JPG', 'IMAG0246 (2).JPG', 'IMAG0234 (2).JPG', 'IMAG0224 (2).JPG', 'IMAG0195.JPG', 'IMAG0194.JPG', 'IMAG0209.JPG', 'IMAG0221.JPG', 'IMAG0235.JPG', 'IMAG0247 (2).JPG', 'IMAG0219.JPG', 'IMAG0231.JPG', 'IMAG0225.JPG', 'IMAG0198 (2).JPG', 'IMAG0225 (2).JPG', 'IMAG0235 (2).JPG', 'IMAG0191.JPG', 'IMAG0224.JPG', 'IMAG0230.JPG', 'IMAG0218.JPG', 'IMAG0226.JPG', 'IMAG0232.JPG', 'IMAG0193.JPG', 'IMAG0191 (2).JPG', 'IMAG0192.JPG', 'IMAG0203 (2).JPG', 'IMAG0213 (2).JPG', 'IMAG0233.JPG', 'IMAG0227.JPG', 'IMAG0240.JPG', 'IMAG0237 (2).JPG', 'IMAG0227 (2).JPG', 'IMAG0245 (2).JPG', 'IMAG0208 (2).JPG', 'IMAG0218 (2).JPG', 'IMAG0241.JPG', 'IMAG0193 (2).JPG', 'IMAG0243.JPG', 'IMAG0211 (2).JPG', 'IMAG0201 (2).JPG', 'IMAG0242.JPG', 'IMAG0192 (2).JPG', 'IMAG0246.JPG', 'IMAG0247.JPG', 'IMAG0200 (2).JPG', 'IMAG0210 (2).JPG', 'IMAG0226 (2).JPG', 'IMAG0236 (2).JPG', 'IMAG0245.JPG', 'IMAG0244 (2).JPG', 'IMAG0219 (2).JPG', 'IMAG0209 (2).JPG', 'IMAG0250.JPG', 'IMAG0244.JPG']\n",
      "120\n"
     ]
    }
   ],
   "source": [
    "cwd = os.getcwd()\n",
    "photos = os.listdir(cwd + \"/path/to/images\")\n",
    "print(photos)\n",
    "print(len(photos))"
   ]
  },
  {
   "cell_type": "code",
   "execution_count": 21,
   "metadata": {},
   "outputs": [],
   "source": [
    "\n",
    "for i in range(len(photos)):\n",
    "    if photos[i].endswith('.JPG'):\n",
    "        img = cv2.imread(\"SelectionDeepLearning_2/newdata_7/\" + photos[i])\n",
    "        img = cv2.cvtColor(img,cv2.COLOR_BGR2RGB)\n",
    "\n",
    "        h, w = img.shape[0], img.shape[1]\n",
    "        #fig1 = plt.figure('原始图像')\n",
    "        #plt.imshow(img)\n",
    "        #plt.axis('off')\n",
    "        #plt.title('Original image')\n",
    "\n",
    "        m = h // 640\n",
    "        n = w // 640\n",
    "        dim =  ( n * 640 , m * 640)\n",
    "        resized = cv2.resize(img, dim, interpolation = cv2.INTER_AREA)\n",
    "\n",
    "        divide_image2=divide_method2(resized,m+1,n+1)\n",
    "        #fig3 = plt.figure('分块后的子图像:图像缩放法')\n",
    "        #display_blocks(divide_image2)\n",
    "        \n",
    "        name = photos[i].split('.')[0]\n",
    "        for j in range(len(divide_image2)):\n",
    "            for k in range(len(divide_image2[j])):\n",
    "                cv2.imwrite(\"SelectionDeepLearning_2/cut_data_7/\" + name +'_'+ str(j)+ str(k)+\".jpg\", divide_image2[j][k])\n"
   ]
  }
 ],
 "metadata": {
  "kernelspec": {
   "display_name": "Python 3",
   "language": "python",
   "name": "python3"
  },
  "language_info": {
   "codemirror_mode": {
    "name": "ipython",
    "version": 3
   },
   "file_extension": ".py",
   "mimetype": "text/x-python",
   "name": "python",
   "nbconvert_exporter": "python",
   "pygments_lexer": "ipython3",
   "version": "3.7.7"
  }
 },
 "nbformat": 4,
 "nbformat_minor": 4
}
